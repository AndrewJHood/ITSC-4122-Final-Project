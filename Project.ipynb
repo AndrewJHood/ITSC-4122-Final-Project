{
 "cells": [
  {
   "cell_type": "code",
   "execution_count": 2,
   "id": "b2e30d13",
   "metadata": {},
   "outputs": [],
   "source": [
    "import streamlit as st\n",
    "import pandas as pd\n",
    "import matplotlib.pyplot as plt\n",
    "import altair as alt\n"
   ]
  },
  {
   "cell_type": "code",
   "execution_count": 3,
   "id": "90da2645",
   "metadata": {},
   "outputs": [],
   "source": [
    "df1= pd.read_csv(\"crime-incidents-1.csv\",low_memory=False)\n",
    "df1 = df1.rename(columns={'incident_id': 'ID', 'case_number': 'Case Number','incident_datetime': 'Date','incident_type_primary': 'Primary Type','incident_description':'Description'})\n",
    "df1.insert(3,'Year',pd.to_datetime(df1['Date']).dt.year)\n"
   ]
  },
  {
   "cell_type": "code",
   "execution_count": null,
   "id": "1c66c22a",
   "metadata": {},
   "outputs": [],
   "source": []
  },
  {
   "cell_type": "code",
   "execution_count": 4,
   "id": "129acde3",
   "metadata": {},
   "outputs": [
    {
     "name": "stderr",
     "output_type": "stream",
     "text": [
      "2021-11-30 22:43:42.602 INFO    numexpr.utils: NumExpr defaulting to 4 threads.\n"
     ]
    }
   ],
   "source": [
    "sourceA = pd.DataFrame()\n",
    "sourceA.insert(0,'Year',df1['Year'])\n",
    "sourceA.insert(1,'Count',1)\n",
    "\n",
    "sourceA = sourceA.groupby('Year').sum()\n",
    "sourceA = sourceA.reset_index()\n",
    "sourceA = sourceA[sourceA['Year']>=2009]"
   ]
  },
  {
   "cell_type": "code",
   "execution_count": 5,
   "id": "7f01b0ad",
   "metadata": {},
   "outputs": [],
   "source": [
    "colors = ['green','yellow','red']\n",
    "A = alt.Chart(sourceA, title='Crimes Reported in Buffalo, NY from 2009 to 2018').mark_bar(size = 30).encode(\n",
    "    alt.X('Year',\n",
    "          axis=alt.Axis(format='.0f',title='Years of Crime'),\n",
    "          scale=alt.Scale(domain=(2009,2018))\n",
    "         ),\n",
    "    alt.Y('Count',\n",
    "         axis=alt.Axis(title='Number of Crimes Reported')),\n",
    "    color=alt.Color('Count', scale=alt.Scale(range=colors)),\n",
    ").configure_axis(\n",
    "    grid=False\n",
    ").properties(\n",
    "    width=700\n",
    ")"
   ]
  },
  {
   "cell_type": "code",
   "execution_count": 6,
   "id": "b32f39f5",
   "metadata": {},
   "outputs": [
    {
     "data": {
      "text/html": [
       "\n",
       "<div id=\"altair-viz-4239e33a75054576826c569442a6a0c5\"></div>\n",
       "<script type=\"text/javascript\">\n",
       "  (function(spec, embedOpt){\n",
       "    let outputDiv = document.currentScript.previousElementSibling;\n",
       "    if (outputDiv.id !== \"altair-viz-4239e33a75054576826c569442a6a0c5\") {\n",
       "      outputDiv = document.getElementById(\"altair-viz-4239e33a75054576826c569442a6a0c5\");\n",
       "    }\n",
       "    const paths = {\n",
       "      \"vega\": \"https://cdn.jsdelivr.net/npm//vega@5?noext\",\n",
       "      \"vega-lib\": \"https://cdn.jsdelivr.net/npm//vega-lib?noext\",\n",
       "      \"vega-lite\": \"https://cdn.jsdelivr.net/npm//vega-lite@4.8.1?noext\",\n",
       "      \"vega-embed\": \"https://cdn.jsdelivr.net/npm//vega-embed@6?noext\",\n",
       "    };\n",
       "\n",
       "    function loadScript(lib) {\n",
       "      return new Promise(function(resolve, reject) {\n",
       "        var s = document.createElement('script');\n",
       "        s.src = paths[lib];\n",
       "        s.async = true;\n",
       "        s.onload = () => resolve(paths[lib]);\n",
       "        s.onerror = () => reject(`Error loading script: ${paths[lib]}`);\n",
       "        document.getElementsByTagName(\"head\")[0].appendChild(s);\n",
       "      });\n",
       "    }\n",
       "\n",
       "    function showError(err) {\n",
       "      outputDiv.innerHTML = `<div class=\"error\" style=\"color:red;\">${err}</div>`;\n",
       "      throw err;\n",
       "    }\n",
       "\n",
       "    function displayChart(vegaEmbed) {\n",
       "      vegaEmbed(outputDiv, spec, embedOpt)\n",
       "        .catch(err => showError(`Javascript Error: ${err.message}<br>This usually means there's a typo in your chart specification. See the javascript console for the full traceback.`));\n",
       "    }\n",
       "\n",
       "    if(typeof define === \"function\" && define.amd) {\n",
       "      requirejs.config({paths});\n",
       "      require([\"vega-embed\"], displayChart, err => showError(`Error loading script: ${err.message}`));\n",
       "    } else if (typeof vegaEmbed === \"function\") {\n",
       "      displayChart(vegaEmbed);\n",
       "    } else {\n",
       "      loadScript(\"vega\")\n",
       "        .then(() => loadScript(\"vega-lite\"))\n",
       "        .then(() => loadScript(\"vega-embed\"))\n",
       "        .catch(showError)\n",
       "        .then(() => displayChart(vegaEmbed));\n",
       "    }\n",
       "  })({\"config\": {\"view\": {\"continuousWidth\": 400, \"continuousHeight\": 300}, \"axis\": {\"grid\": false}}, \"data\": {\"name\": \"data-581ffcebaa5f31c2f49e54cd26628754\"}, \"mark\": {\"type\": \"bar\", \"size\": 30}, \"encoding\": {\"color\": {\"type\": \"quantitative\", \"field\": \"Count\", \"scale\": {\"range\": [\"green\", \"yellow\", \"red\"]}}, \"x\": {\"type\": \"quantitative\", \"axis\": {\"format\": \".0f\", \"title\": \"Years of Crime\"}, \"field\": \"Year\", \"scale\": {\"domain\": [2009, 2018]}}, \"y\": {\"type\": \"quantitative\", \"axis\": {\"title\": \"Number of Crimes Reported\"}, \"field\": \"Count\"}}, \"title\": \"Crimes Reported in Buffalo, NY from 2009 to 2018\", \"width\": 700, \"$schema\": \"https://vega.github.io/schema/vega-lite/v4.8.1.json\", \"datasets\": {\"data-581ffcebaa5f31c2f49e54cd26628754\": [{\"Year\": 2009.0, \"Count\": 20525}, {\"Year\": 2010.0, \"Count\": 19773}, {\"Year\": 2011.0, \"Count\": 19319}, {\"Year\": 2012.0, \"Count\": 18683}, {\"Year\": 2013.0, \"Count\": 16865}, {\"Year\": 2014.0, \"Count\": 17506}, {\"Year\": 2015.0, \"Count\": 16230}, {\"Year\": 2016.0, \"Count\": 15066}, {\"Year\": 2017.0, \"Count\": 14002}, {\"Year\": 2018.0, \"Count\": 2407}]}}, {\"mode\": \"vega-lite\"});\n",
       "</script>"
      ],
      "text/plain": [
       "alt.Chart(...)"
      ]
     },
     "execution_count": 6,
     "metadata": {},
     "output_type": "execute_result"
    }
   ],
   "source": [
    "A"
   ]
  },
  {
   "cell_type": "code",
   "execution_count": null,
   "id": "10b649c9-3a4e-4df0-b7be-b9eea540ea92",
   "metadata": {},
   "outputs": [],
   "source": []
  },
  {
   "cell_type": "code",
   "execution_count": 7,
   "id": "05ac6c3f-4190-4903-acca-0dfe9b4c190b",
   "metadata": {},
   "outputs": [],
   "source": [
    "#df2= pd.read_csv(\"Crimes 2009 - 2018.csv\")\n",
    "#df2.insert(3,'Year',pd.to_datetime(df2['Date']).dt.year)"
   ]
  },
  {
   "cell_type": "code",
   "execution_count": null,
   "id": "b1be4b9c",
   "metadata": {},
   "outputs": [],
   "source": []
  },
  {
   "cell_type": "code",
   "execution_count": null,
   "id": "5c5a6968",
   "metadata": {},
   "outputs": [],
   "source": [
    "#Both_DFs = pd.merge(df1,df2, how='left',left_on=['ID'],right_on=['ID'])"
   ]
  },
  {
   "cell_type": "code",
   "execution_count": null,
   "id": "87f6b3dc",
   "metadata": {},
   "outputs": [],
   "source": [
    "#Both_DFs"
   ]
  }
 ],
 "metadata": {
  "kernelspec": {
   "display_name": "Python 3",
   "language": "python",
   "name": "python3"
  },
  "language_info": {
   "codemirror_mode": {
    "name": "ipython",
    "version": 3
   },
   "file_extension": ".py",
   "mimetype": "text/x-python",
   "name": "python",
   "nbconvert_exporter": "python",
   "pygments_lexer": "ipython3",
   "version": "3.8.8"
  }
 },
 "nbformat": 4,
 "nbformat_minor": 5
}
